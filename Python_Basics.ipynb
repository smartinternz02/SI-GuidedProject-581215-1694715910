{
  "nbformat": 4,
  "nbformat_minor": 0,
  "metadata": {
    "colab": {
      "provenance": []
    },
    "kernelspec": {
      "name": "python3",
      "display_name": "Python 3"
    },
    "language_info": {
      "name": "python"
    }
  },
  "cells": [
    {
      "cell_type": "code",
      "execution_count": null,
      "metadata": {
        "id": "rcX90x5-l0K6"
      },
      "outputs": [],
      "source": [
        "# Tuples   (Ordered, indexing,slicing,immutable,allows duplicates)"
      ]
    },
    {
      "cell_type": "code",
      "source": [
        "tup =(1,'Saumya',12.34)"
      ],
      "metadata": {
        "id": "cHAxom4RmNuN"
      },
      "execution_count": 1,
      "outputs": []
    },
    {
      "cell_type": "code",
      "source": [
        "tup"
      ],
      "metadata": {
        "colab": {
          "base_uri": "https://localhost:8080/"
        },
        "id": "TqYNDGSVmNw1",
        "outputId": "86727673-d197-470a-8bac-0123100b1863"
      },
      "execution_count": 2,
      "outputs": [
        {
          "output_type": "execute_result",
          "data": {
            "text/plain": [
              "(1, 'Saumya', 12.34)"
            ]
          },
          "metadata": {},
          "execution_count": 2
        }
      ]
    },
    {
      "cell_type": "code",
      "source": [
        "tup[1]"
      ],
      "metadata": {
        "colab": {
          "base_uri": "https://localhost:8080/",
          "height": 36
        },
        "id": "iqRF2QZXmN1F",
        "outputId": "4eb0b989-6cee-4428-a873-77ed5570bb8a"
      },
      "execution_count": 3,
      "outputs": [
        {
          "output_type": "execute_result",
          "data": {
            "text/plain": [
              "'Saumya'"
            ],
            "application/vnd.google.colaboratory.intrinsic+json": {
              "type": "string"
            }
          },
          "metadata": {},
          "execution_count": 3
        }
      ]
    },
    {
      "cell_type": "code",
      "source": [
        "tup[1:3]"
      ],
      "metadata": {
        "colab": {
          "base_uri": "https://localhost:8080/"
        },
        "id": "61QlgKfymN4h",
        "outputId": "3a8a36e1-a58e-44f0-aaa3-f100538f8157"
      },
      "execution_count": 4,
      "outputs": [
        {
          "output_type": "execute_result",
          "data": {
            "text/plain": [
              "('Saumya', 12.34)"
            ]
          },
          "metadata": {},
          "execution_count": 4
        }
      ]
    },
    {
      "cell_type": "code",
      "source": [
        "tup =(1,'Saumya',12.34,1,1)"
      ],
      "metadata": {
        "id": "_9HGpvTfmN-Y"
      },
      "execution_count": 5,
      "outputs": []
    },
    {
      "cell_type": "code",
      "source": [
        "tup"
      ],
      "metadata": {
        "colab": {
          "base_uri": "https://localhost:8080/"
        },
        "id": "cwfVa11CmORh",
        "outputId": "a629a603-2984-4a48-d5a3-e7b9902f429d"
      },
      "execution_count": 6,
      "outputs": [
        {
          "output_type": "execute_result",
          "data": {
            "text/plain": [
              "(1, 'Saumya', 12.34, 1, 1)"
            ]
          },
          "metadata": {},
          "execution_count": 6
        }
      ]
    },
    {
      "cell_type": "code",
      "source": [
        "tup[1]='Arun'"
      ],
      "metadata": {
        "colab": {
          "base_uri": "https://localhost:8080/",
          "height": 179
        },
        "id": "lwPcZzsNmOU3",
        "outputId": "7f32cfb0-c8e4-4602-a5d3-1af393b2bbe0"
      },
      "execution_count": 7,
      "outputs": [
        {
          "output_type": "error",
          "ename": "TypeError",
          "evalue": "ignored",
          "traceback": [
            "\u001b[0;31m---------------------------------------------------------------------------\u001b[0m",
            "\u001b[0;31mTypeError\u001b[0m                                 Traceback (most recent call last)",
            "\u001b[0;32m<ipython-input-7-86fa64cd29ca>\u001b[0m in \u001b[0;36m<cell line: 1>\u001b[0;34m()\u001b[0m\n\u001b[0;32m----> 1\u001b[0;31m \u001b[0mtup\u001b[0m\u001b[0;34m[\u001b[0m\u001b[0;36m1\u001b[0m\u001b[0;34m]\u001b[0m\u001b[0;34m=\u001b[0m\u001b[0;34m'Arun'\u001b[0m\u001b[0;34m\u001b[0m\u001b[0;34m\u001b[0m\u001b[0m\n\u001b[0m",
            "\u001b[0;31mTypeError\u001b[0m: 'tuple' object does not support item assignment"
          ]
        }
      ]
    },
    {
      "cell_type": "code",
      "source": [
        "# Set (doesnt allow duplicates, un ordered, no indexing & slicing , immutable)"
      ],
      "metadata": {
        "id": "54PxgXsvuyyh"
      },
      "execution_count": null,
      "outputs": []
    },
    {
      "cell_type": "code",
      "source": [
        "st ={1,1,'Hari','Saniya',34.345,'Saumya','Shivam','Hari','Sandeep'}\n",
        "st"
      ],
      "metadata": {
        "colab": {
          "base_uri": "https://localhost:8080/"
        },
        "id": "qM4ShcWyvWp9",
        "outputId": "18b19371-f03f-4d07-8ff0-51bf9e214027"
      },
      "execution_count": 9,
      "outputs": [
        {
          "output_type": "execute_result",
          "data": {
            "text/plain": [
              "{1, 34.345, 'Hari', 'Sandeep', 'Saniya', 'Saumya', 'Shivam'}"
            ]
          },
          "metadata": {},
          "execution_count": 9
        }
      ]
    },
    {
      "cell_type": "code",
      "source": [
        "st[1]"
      ],
      "metadata": {
        "colab": {
          "base_uri": "https://localhost:8080/",
          "height": 179
        },
        "id": "fJR3Jcs5vWst",
        "outputId": "9e99ba2b-435e-4e9b-e73c-392f85833739"
      },
      "execution_count": 10,
      "outputs": [
        {
          "output_type": "error",
          "ename": "TypeError",
          "evalue": "ignored",
          "traceback": [
            "\u001b[0;31m---------------------------------------------------------------------------\u001b[0m",
            "\u001b[0;31mTypeError\u001b[0m                                 Traceback (most recent call last)",
            "\u001b[0;32m<ipython-input-10-d9571e62e68b>\u001b[0m in \u001b[0;36m<cell line: 1>\u001b[0;34m()\u001b[0m\n\u001b[0;32m----> 1\u001b[0;31m \u001b[0mst\u001b[0m\u001b[0;34m[\u001b[0m\u001b[0;36m1\u001b[0m\u001b[0;34m]\u001b[0m\u001b[0;34m\u001b[0m\u001b[0;34m\u001b[0m\u001b[0m\n\u001b[0m",
            "\u001b[0;31mTypeError\u001b[0m: 'set' object is not subscriptable"
          ]
        }
      ]
    },
    {
      "cell_type": "code",
      "source": [
        "# dictionary {key:value}\n",
        "dict_1 = {1:'Ammu',\n",
        "          2:'Smartbridge',\n",
        "          3:'VIT'}\n",
        "dict_1\n"
      ],
      "metadata": {
        "colab": {
          "base_uri": "https://localhost:8080/"
        },
        "id": "9jeOg9KMvWwN",
        "outputId": "fdcec5ac-e7e0-4c17-a9b2-a209d92b6bc4"
      },
      "execution_count": 11,
      "outputs": [
        {
          "output_type": "execute_result",
          "data": {
            "text/plain": [
              "{1: 'Ammu', 2: 'Smartbridge', 3: 'VIT'}"
            ]
          },
          "metadata": {},
          "execution_count": 11
        }
      ]
    },
    {
      "cell_type": "code",
      "source": [
        "type(dict_1)"
      ],
      "metadata": {
        "colab": {
          "base_uri": "https://localhost:8080/"
        },
        "id": "f3gWLuw2wPS0",
        "outputId": "1f89d592-d2dd-4b4f-9a5b-0b780f3cf15f"
      },
      "execution_count": 12,
      "outputs": [
        {
          "output_type": "execute_result",
          "data": {
            "text/plain": [
              "dict"
            ]
          },
          "metadata": {},
          "execution_count": 12
        }
      ]
    },
    {
      "cell_type": "code",
      "source": [
        "type(st)"
      ],
      "metadata": {
        "colab": {
          "base_uri": "https://localhost:8080/"
        },
        "id": "t66FEOyIwPbx",
        "outputId": "dc5a56cd-e352-4894-fca7-516dd6eeae3b"
      },
      "execution_count": 13,
      "outputs": [
        {
          "output_type": "execute_result",
          "data": {
            "text/plain": [
              "set"
            ]
          },
          "metadata": {},
          "execution_count": 13
        }
      ]
    },
    {
      "cell_type": "code",
      "source": [
        "dict_1 = {1:['Ammu','Appu'],\n",
        "          2:'Smartbridge',\n",
        "          3:'VIT'}\n",
        "dict_1\n"
      ],
      "metadata": {
        "colab": {
          "base_uri": "https://localhost:8080/"
        },
        "id": "EkszHL1CwPex",
        "outputId": "618fe58d-aebf-4fcd-85a3-23eafd735df8"
      },
      "execution_count": 27,
      "outputs": [
        {
          "output_type": "execute_result",
          "data": {
            "text/plain": [
              "{1: ['Ammu', 'Appu'], 2: 'Smartbridge', 3: 'VIT'}"
            ]
          },
          "metadata": {},
          "execution_count": 27
        }
      ]
    },
    {
      "cell_type": "code",
      "source": [
        "dict_1 = {[1,11]:['Ammu','Appu'],\n",
        "          'name':'Smartbridge',\n",
        "          3:'VIT'}\n",
        "dict_1\n"
      ],
      "metadata": {
        "colab": {
          "base_uri": "https://localhost:8080/",
          "height": 233
        },
        "id": "3V0lJeM1wPiW",
        "outputId": "a96e2b19-206d-4db9-fad9-3128cbecc323"
      },
      "execution_count": 16,
      "outputs": [
        {
          "output_type": "error",
          "ename": "TypeError",
          "evalue": "ignored",
          "traceback": [
            "\u001b[0;31m---------------------------------------------------------------------------\u001b[0m",
            "\u001b[0;31mTypeError\u001b[0m                                 Traceback (most recent call last)",
            "\u001b[0;32m<ipython-input-16-e7de9ad8d074>\u001b[0m in \u001b[0;36m<cell line: 1>\u001b[0;34m()\u001b[0m\n\u001b[0;32m----> 1\u001b[0;31m dict_1 = {[1,11]:['Ammu','Appu'],\n\u001b[0m\u001b[1;32m      2\u001b[0m           \u001b[0;36m2\u001b[0m\u001b[0;34m:\u001b[0m\u001b[0;34m'Smartbridge'\u001b[0m\u001b[0;34m,\u001b[0m\u001b[0;34m\u001b[0m\u001b[0;34m\u001b[0m\u001b[0m\n\u001b[1;32m      3\u001b[0m           3:'VIT'}\n\u001b[1;32m      4\u001b[0m \u001b[0mdict_1\u001b[0m\u001b[0;34m\u001b[0m\u001b[0;34m\u001b[0m\u001b[0m\n",
            "\u001b[0;31mTypeError\u001b[0m: unhashable type: 'list'"
          ]
        }
      ]
    },
    {
      "cell_type": "code",
      "source": [
        "dict_1"
      ],
      "metadata": {
        "colab": {
          "base_uri": "https://localhost:8080/"
        },
        "id": "aq9KNcHTxbdQ",
        "outputId": "c6091cd9-ff44-4ec0-e09e-330159438477"
      },
      "execution_count": 18,
      "outputs": [
        {
          "output_type": "execute_result",
          "data": {
            "text/plain": [
              "{1: ['Ammu', 'Appu'], 2: 'Smartbridge', 3: 'VIT'}"
            ]
          },
          "metadata": {},
          "execution_count": 18
        }
      ]
    },
    {
      "cell_type": "code",
      "source": [
        "dict_1.keys()"
      ],
      "metadata": {
        "colab": {
          "base_uri": "https://localhost:8080/"
        },
        "id": "xSTabJ3SxnfQ",
        "outputId": "69a4d1e1-84ad-448d-cd99-c54e4ced5e1d"
      },
      "execution_count": 28,
      "outputs": [
        {
          "output_type": "execute_result",
          "data": {
            "text/plain": [
              "dict_keys([1, 2, 3])"
            ]
          },
          "metadata": {},
          "execution_count": 28
        }
      ]
    },
    {
      "cell_type": "code",
      "source": [
        "dict_1.values()"
      ],
      "metadata": {
        "colab": {
          "base_uri": "https://localhost:8080/"
        },
        "id": "9Sgamz9GyLhs",
        "outputId": "3dd82256-2f96-4bee-ef76-1f45ef7505bd"
      },
      "execution_count": 20,
      "outputs": [
        {
          "output_type": "execute_result",
          "data": {
            "text/plain": [
              "dict_values([['Ammu', 'Appu'], 'Smartbridge', 'VIT'])"
            ]
          },
          "metadata": {},
          "execution_count": 20
        }
      ]
    },
    {
      "cell_type": "code",
      "source": [
        "dict_1.items()"
      ],
      "metadata": {
        "colab": {
          "base_uri": "https://localhost:8080/"
        },
        "id": "J4THkIMgyQnr",
        "outputId": "a79ef885-d4a3-4c1c-cb57-774d05796713"
      },
      "execution_count": 21,
      "outputs": [
        {
          "output_type": "execute_result",
          "data": {
            "text/plain": [
              "dict_items([(1, ['Ammu', 'Appu']), (2, 'Smartbridge'), (3, 'VIT')])"
            ]
          },
          "metadata": {},
          "execution_count": 21
        }
      ]
    },
    {
      "cell_type": "code",
      "source": [
        "dict_1[3]"
      ],
      "metadata": {
        "colab": {
          "base_uri": "https://localhost:8080/",
          "height": 36
        },
        "id": "5Aa0w5eLylpv",
        "outputId": "de62df94-36c2-4a51-eed1-5ddc77e5fed9"
      },
      "execution_count": 23,
      "outputs": [
        {
          "output_type": "execute_result",
          "data": {
            "text/plain": [
              "'VIT'"
            ],
            "application/vnd.google.colaboratory.intrinsic+json": {
              "type": "string"
            }
          },
          "metadata": {},
          "execution_count": 23
        }
      ]
    },
    {
      "cell_type": "code",
      "source": [
        "dict_1[1]"
      ],
      "metadata": {
        "colab": {
          "base_uri": "https://localhost:8080/"
        },
        "id": "8OnE7iNRyvUk",
        "outputId": "f77058c4-9304-4341-d499-b1b49dbdf5fd"
      },
      "execution_count": 29,
      "outputs": [
        {
          "output_type": "execute_result",
          "data": {
            "text/plain": [
              "['Ammu', 'Appu']"
            ]
          },
          "metadata": {},
          "execution_count": 29
        }
      ]
    },
    {
      "cell_type": "code",
      "source": [
        "dict_1[1]='Hari'"
      ],
      "metadata": {
        "id": "PLyr3Q-hze60"
      },
      "execution_count": 30,
      "outputs": []
    },
    {
      "cell_type": "code",
      "source": [
        "dict_1"
      ],
      "metadata": {
        "colab": {
          "base_uri": "https://localhost:8080/"
        },
        "id": "b1i-z_ftzrP9",
        "outputId": "c77bb84f-9c10-4e6d-a253-bc1c1b3e7d7d"
      },
      "execution_count": 31,
      "outputs": [
        {
          "output_type": "execute_result",
          "data": {
            "text/plain": [
              "{1: 'Hari', 2: 'Smartbridge', 3: 'VIT'}"
            ]
          },
          "metadata": {},
          "execution_count": 31
        }
      ]
    },
    {
      "cell_type": "code",
      "source": [
        "dict_1 = {'name':['Ammu','Appu','Chitra','Aswathy','Arjun','Aryan'],\n",
        "          'org':'Smartbridge',\n",
        "          'inst':'VIT'}\n",
        "dict_1\n"
      ],
      "metadata": {
        "colab": {
          "base_uri": "https://localhost:8080/"
        },
        "id": "_K61PyMbzsrs",
        "outputId": "c2307f00-2af9-451c-e1f8-24eb13976196"
      },
      "execution_count": 49,
      "outputs": [
        {
          "output_type": "execute_result",
          "data": {
            "text/plain": [
              "{'name': ['Ammu', 'Appu', 'Chitra', 'Aswathy', 'Arjun', 'Aryan'],\n",
              " 'org': 'Smartbridge',\n",
              " 'inst': 'VIT'}"
            ]
          },
          "metadata": {},
          "execution_count": 49
        }
      ]
    },
    {
      "cell_type": "code",
      "source": [
        "dict_1['name']"
      ],
      "metadata": {
        "colab": {
          "base_uri": "https://localhost:8080/"
        },
        "id": "L7JlGOUq0Jsf",
        "outputId": "5f6f083a-a425-422d-b3a7-889984be5eae"
      },
      "execution_count": 37,
      "outputs": [
        {
          "output_type": "execute_result",
          "data": {
            "text/plain": [
              "['Ammu', 'Appu', 'Chitra', 'Aswathy', 'Arjun', 'Aryan']"
            ]
          },
          "metadata": {},
          "execution_count": 37
        }
      ]
    },
    {
      "cell_type": "code",
      "source": [
        "type(dict_1['name'])"
      ],
      "metadata": {
        "colab": {
          "base_uri": "https://localhost:8080/"
        },
        "id": "mGlx7Wem0UKJ",
        "outputId": "ed71c094-34ca-4489-c1a5-7a3ff266da6b"
      },
      "execution_count": 50,
      "outputs": [
        {
          "output_type": "execute_result",
          "data": {
            "text/plain": [
              "list"
            ]
          },
          "metadata": {},
          "execution_count": 50
        }
      ]
    },
    {
      "cell_type": "code",
      "source": [
        "dict_1['name'][2:]"
      ],
      "metadata": {
        "colab": {
          "base_uri": "https://localhost:8080/"
        },
        "id": "TXAOUrM70aOA",
        "outputId": "74b02547-9289-452a-830d-1b7d4b24bbc5"
      },
      "execution_count": 40,
      "outputs": [
        {
          "output_type": "execute_result",
          "data": {
            "text/plain": [
              "['Chitra', 'Aswathy', 'Arjun', 'Aryan']"
            ]
          },
          "metadata": {},
          "execution_count": 40
        }
      ]
    },
    {
      "cell_type": "code",
      "source": [
        "dict_1['name'][-4:]"
      ],
      "metadata": {
        "colab": {
          "base_uri": "https://localhost:8080/"
        },
        "id": "ZTB8p-mW0zaa",
        "outputId": "4a912baf-74fa-46bb-80eb-d68c8ee71fe0"
      },
      "execution_count": 46,
      "outputs": [
        {
          "output_type": "execute_result",
          "data": {
            "text/plain": [
              "['Chitra', 'Aswathy', 'Arjun', 'Aryan']"
            ]
          },
          "metadata": {},
          "execution_count": 46
        }
      ]
    },
    {
      "cell_type": "code",
      "source": [
        "del dict_1"
      ],
      "metadata": {
        "id": "cnaq2msW1KNy"
      },
      "execution_count": 42,
      "outputs": []
    },
    {
      "cell_type": "code",
      "source": [
        "dict_1"
      ],
      "metadata": {
        "colab": {
          "base_uri": "https://localhost:8080/",
          "height": 179
        },
        "id": "YIWEv_dz1QX7",
        "outputId": "fc884462-4e07-4da3-e8a9-a5bcc32f535e"
      },
      "execution_count": 43,
      "outputs": [
        {
          "output_type": "error",
          "ename": "NameError",
          "evalue": "ignored",
          "traceback": [
            "\u001b[0;31m---------------------------------------------------------------------------\u001b[0m",
            "\u001b[0;31mNameError\u001b[0m                                 Traceback (most recent call last)",
            "\u001b[0;32m<ipython-input-43-826c3078b7f0>\u001b[0m in \u001b[0;36m<cell line: 1>\u001b[0;34m()\u001b[0m\n\u001b[0;32m----> 1\u001b[0;31m \u001b[0mdict_1\u001b[0m\u001b[0;34m\u001b[0m\u001b[0;34m\u001b[0m\u001b[0m\n\u001b[0m",
            "\u001b[0;31mNameError\u001b[0m: name 'dict_1' is not defined"
          ]
        }
      ]
    },
    {
      "cell_type": "code",
      "source": [
        "# Conditions (statements)"
      ],
      "metadata": {
        "id": "EY8Jd7Yk1Qat"
      },
      "execution_count": null,
      "outputs": []
    },
    {
      "cell_type": "code",
      "source": [
        "a =10\n",
        "\n",
        "if a>9:\n",
        "  print(a)"
      ],
      "metadata": {
        "colab": {
          "base_uri": "https://localhost:8080/"
        },
        "id": "0S_9tAAx1Qdl",
        "outputId": "e421cefb-95bb-40a8-cd75-311cccbe1152"
      },
      "execution_count": 71,
      "outputs": [
        {
          "output_type": "stream",
          "name": "stdout",
          "text": [
            "10\n"
          ]
        }
      ]
    },
    {
      "cell_type": "code",
      "source": [
        "a =int(input('enter the value of a'))\n",
        "if a>9:\n",
        "  print(a)"
      ],
      "metadata": {
        "colab": {
          "base_uri": "https://localhost:8080/"
        },
        "id": "rAvvGSOf1Qgh",
        "outputId": "6a27e2a8-1f2f-4406-e5e7-ec5bc3b8aac5"
      },
      "execution_count": 72,
      "outputs": [
        {
          "name": "stdout",
          "output_type": "stream",
          "text": [
            "enter the value of a1\n"
          ]
        }
      ]
    },
    {
      "cell_type": "code",
      "source": [
        "a =int(input('enter the value of a'))\n",
        "if a>9:\n",
        "  print('{} is the user input'.format(a))"
      ],
      "metadata": {
        "colab": {
          "base_uri": "https://localhost:8080/"
        },
        "id": "RENnmM9X1Qj3",
        "outputId": "d9837996-f0dd-437c-d019-37bbb103ad95"
      },
      "execution_count": 73,
      "outputs": [
        {
          "name": "stdout",
          "output_type": "stream",
          "text": [
            "enter the value of a1\n"
          ]
        }
      ]
    },
    {
      "cell_type": "code",
      "source": [
        "a= input('Enter the trainer name ')\n",
        "b =input('Enter the trainer track ')\n",
        "\n",
        "print('The trainer',a, 'is taking',b,'session')\n",
        "\n",
        "print('the trainer {} is taking {} session'.format(a,b))\n",
        "\n",
        "print(f\"The trainer {a} is taking {b} session\")\n",
        "\n",
        "print('The trainer '+a+ ' is taking ' +b+  ' session')"
      ],
      "metadata": {
        "colab": {
          "base_uri": "https://localhost:8080/"
        },
        "id": "C0Uwrr7g4KWL",
        "outputId": "125ee7d3-114f-4333-acf5-32e8eae52cf0"
      },
      "execution_count": 74,
      "outputs": [
        {
          "output_type": "stream",
          "name": "stdout",
          "text": [
            "Enter the trainer name Saumya\n",
            "Enter the trainer track AI\n",
            "The trainer Saumya is taking AI session\n",
            "the trainer Saumya is taking AI session\n",
            "The trainer Saumya is taking AI session\n",
            "The trainer Saumya is taking AI session\n"
          ]
        }
      ]
    },
    {
      "cell_type": "code",
      "source": [
        "a =int(input('enter the value of a '))\n",
        "if a>9:\n",
        "  print('{} is the user input'.format(a))\n",
        "else:\n",
        "  print(a)"
      ],
      "metadata": {
        "colab": {
          "base_uri": "https://localhost:8080/"
        },
        "id": "kytjE_8O4xY8",
        "outputId": "86d8ee7a-c370-425b-bcf0-a490d17182fb"
      },
      "execution_count": 77,
      "outputs": [
        {
          "output_type": "stream",
          "name": "stdout",
          "text": [
            "enter the value of a 11\n",
            "11 is the user input\n"
          ]
        }
      ]
    },
    {
      "cell_type": "code",
      "source": [
        "a =int(input('enter the value of a '))\n",
        "if a>9:\n",
        "  print('{} is greater than 9 '.format(a))\n",
        "elif a==9:\n",
        "  print('{} is equal to 9 '.format(a))\n",
        "else:\n",
        "  print('{} is less than 9 '.format(a))"
      ],
      "metadata": {
        "colab": {
          "base_uri": "https://localhost:8080/"
        },
        "id": "z2XGPxkY649M",
        "outputId": "546d5a9b-9cd1-4c82-ea44-a693ad1b5b98"
      },
      "execution_count": 81,
      "outputs": [
        {
          "output_type": "stream",
          "name": "stdout",
          "text": [
            "enter the value of a 1\n",
            "1 is less than 9 \n"
          ]
        }
      ]
    },
    {
      "cell_type": "code",
      "source": [
        "# For loop and While loop\n",
        "\n",
        "for i in range(0,10):\n",
        "  print(i)"
      ],
      "metadata": {
        "colab": {
          "base_uri": "https://localhost:8080/"
        },
        "id": "os4lKV8s8R2c",
        "outputId": "4a40b51d-a101-429d-d405-8117a61a86ed"
      },
      "execution_count": 82,
      "outputs": [
        {
          "output_type": "stream",
          "name": "stdout",
          "text": [
            "0\n",
            "1\n",
            "2\n",
            "3\n",
            "4\n",
            "5\n",
            "6\n",
            "7\n",
            "8\n",
            "9\n"
          ]
        }
      ]
    },
    {
      "cell_type": "code",
      "source": [
        "for i in range(0,10):\n",
        "  if i==8:\n",
        "    break\n",
        "  print(i)"
      ],
      "metadata": {
        "colab": {
          "base_uri": "https://localhost:8080/"
        },
        "id": "bWO2L7S1_9df",
        "outputId": "0c9b1310-f865-43e8-f6e0-fa42ad4a17ba"
      },
      "execution_count": 84,
      "outputs": [
        {
          "output_type": "stream",
          "name": "stdout",
          "text": [
            "0\n",
            "1\n",
            "2\n",
            "3\n",
            "4\n",
            "5\n",
            "6\n",
            "7\n"
          ]
        }
      ]
    },
    {
      "cell_type": "code",
      "source": [],
      "metadata": {
        "id": "_glvdHE3_9gL"
      },
      "execution_count": null,
      "outputs": []
    },
    {
      "cell_type": "code",
      "source": [],
      "metadata": {
        "id": "50zxB2x9_9i3"
      },
      "execution_count": null,
      "outputs": []
    },
    {
      "cell_type": "code",
      "source": [],
      "metadata": {
        "id": "GqZy1rIZ_9mk"
      },
      "execution_count": null,
      "outputs": []
    }
  ]
}